{
 "cells": [
  {
   "cell_type": "markdown",
   "id": "148046b5",
   "metadata": {},
   "source": [
    "# A1 - Extra Credit"
   ]
  },
  {
   "cell_type": "code",
   "execution_count": 1,
   "id": "8f38aad5",
   "metadata": {},
   "outputs": [],
   "source": [
    "import numpy as np\n",
    "import matplotlib.pyplot as plt"
   ]
  },
  {
   "cell_type": "markdown",
   "id": "7bebcd6c",
   "metadata": {},
   "source": [
    "Let's first be clear about what we're doing. \n",
    "\n",
    "We wish to use *Forward Euler* to solve \n",
    "$$\\frac{dn(t)}{dt} = \\sqrt{n(t)},\\quad n(0)=1$$"
   ]
  },
  {
   "cell_type": "markdown",
   "id": "90ba848a",
   "metadata": {},
   "source": [
    "We'll start by defining the \"slope\" of this equation. If you give me n and t, I can tell you the slope with this handy function. It's just the RHS of the ODE. "
   ]
  },
  {
   "cell_type": "code",
   "execution_count": 2,
   "id": "595f17ef",
   "metadata": {},
   "outputs": [],
   "source": [
    "def slope(n,t):\n",
    "    return np.sqrt(n)"
   ]
  },
  {
   "cell_type": "markdown",
   "id": "7d37b2f2",
   "metadata": {},
   "source": [
    "We want to solve this between $t=0$ and $t=10$ with three different step sizes: $\\Delta t=2$, $\\Delta t=1$, and $\\Delta t=0.01$.\n",
    "\n",
    "Let's write down some recursions to help us do this."
   ]
  },
  {
   "cell_type": "code",
   "execution_count": 3,
   "id": "9d9651d6",
   "metadata": {},
   "outputs": [],
   "source": [
    "def get_next_n(current_n,current_t,delta_t):\n",
    "    next_n = current_n + delta_t*slope(current_n,current_t)\n",
    "    return next_n\n",
    "\n",
    "def get_next_t(current_t,delta_t):\n",
    "    return current_t+delta_t"
   ]
  },
  {
   "cell_type": "markdown",
   "id": "a023c349",
   "metadata": {},
   "source": [
    "Now let's put it together by using this basic recursion code three times, once for each $\\Delta t$."
   ]
  },
  {
   "cell_type": "code",
   "execution_count": 23,
   "id": "d2634823",
   "metadata": {},
   "outputs": [
    {
     "data": {
      "image/png": "[encoded data removed]",
      "text/plain": [
       "<Figure size 432x288 with 1 Axes>"
      ]
     },
     "metadata": {
      "needs_background": "light"
     },
     "output_type": "display_data"
    }
   ],
   "source": [
    "t0 = 0 # initial condition\n",
    "n0 = 1 # initial condition\n",
    "fig, ax = plt.subplots(figsize=(6,4)) # set up the figure\n",
    "\n",
    "delta_t = 2\n",
    "t_values = [t0]\n",
    "n_values = [n0]\n",
    "while t_values[-1]<10:\n",
    "    n = n_values[-1]\n",
    "    t = t_values[-1]\n",
    "    n_values.append(get_next_n(n,t,delta_t))\n",
    "    t_values.append(get_next_t(t,delta_t))\n",
    "ax.plot(t_values,n_values,color='red',label='$\\Delta t$=2')\n",
    "\n",
    "delta_t = 1\n",
    "t_values = [t0]\n",
    "n_values = [n0]\n",
    "while t_values[-1]<10:\n",
    "    n = n_values[-1]\n",
    "    t = t_values[-1]\n",
    "    n_values.append(get_next_n(n,t,delta_t))\n",
    "    t_values.append(get_next_t(t,delta_t))\n",
    "ax.plot(t_values,n_values,color='blue',label='$\\Delta t$=1')\n",
    "\n",
    "delta_t = 0.01\n",
    "t_values = [t0]\n",
    "n_values = [n0]\n",
    "while t_values[-1]<10:\n",
    "    n = n_values[-1]\n",
    "    t = t_values[-1]\n",
    "    n_values.append(get_next_n(n,t,delta_t))\n",
    "    t_values.append(get_next_t(t,delta_t))\n",
    "ax.plot(t_values,n_values,color='black',label='$\\Delta t$=0.01')\n",
    "\n",
    "ax.legend(loc='best')\n",
    "ax.set_ylim(bottom=0)\n",
    "ax.set_xlim([0,10]);"
   ]
  },
  {
   "cell_type": "code",
   "execution_count": null,
   "id": "fa759e6c",
   "metadata": {},
   "outputs": [],
   "source": []
  }
 ],
 "metadata": {
  "kernelspec": {
   "display_name": "Python 3 (ipykernel)",
   "language": "python",
   "name": "python3"
  },
  "language_info": {
   "codemirror_mode": {
    "name": "ipython",
    "version": 3
   },
   "file_extension": ".py",
   "mimetype": "text/x-python",
   "name": "python",
   "nbconvert_exporter": "python",
   "pygments_lexer": "ipython3",
   "version": "3.9.10"
  }
 },
 "nbformat": 4,
 "nbformat_minor": 5
}
